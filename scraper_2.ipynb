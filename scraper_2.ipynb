{
 "cells": [
  {
   "cell_type": "markdown",
   "metadata": {},
   "source": [
    "## Webscraping example 2: KAREN MILLEN website"
   ]
  },
  {
   "cell_type": "code",
   "execution_count": 1,
   "metadata": {
    "collapsed": true
   },
   "outputs": [],
   "source": [
    "%matplotlib inline"
   ]
  },
  {
   "cell_type": "code",
   "execution_count": 2,
   "metadata": {
    "collapsed": true
   },
   "outputs": [],
   "source": [
    "# Some importing \n",
    "import time\n",
    "import numpy as np\n",
    "import pandas as pd\n",
    "from selenium import webdriver\n",
    "import matplotlib.pyplot as plt\n",
    "import seaborn; seaborn.set()"
   ]
  },
  {
   "cell_type": "markdown",
   "metadata": {},
   "source": [
    "The URL we are trying to scrape is http://www.karenmillen.com/gb/womens/new-in/clothing/"
   ]
  },
  {
   "cell_type": "code",
   "execution_count": 3,
   "metadata": {
    "collapsed": true
   },
   "outputs": [],
   "source": [
    "URL = 'http://www.karenmillen.com/gb/womens/new-in/clothing/'"
   ]
  },
  {
   "cell_type": "markdown",
   "metadata": {},
   "source": [
    "## The problem with dynamic websites"
   ]
  },
  {
   "cell_type": "markdown",
   "metadata": {},
   "source": [
    "Dynamic websites contain Web pages that are generated in real-time. These pages include Web scripting code, such as Javascript, PHP or ASP. When a dynamic page is accessed, the code within the page is parsed on the Web server and the resulting HTML is sent to the client's Web browser.\n",
    "\n",
    "Because of a simpler scraper retrieve the content of a webpage as it is, it just not work well in this case. \n",
    "\n",
    "To overcome this, we can use Selenium, a toolkit to simulate a browser a drive it from your favorite programming language. "
   ]
  },
  {
   "cell_type": "markdown",
   "metadata": {},
   "source": [
    "You can download any (firefox/chrome/Edge) webdriver from these websites. We need the driver because selenium uses the web browser to scrape the data from the websites.\n",
    "\n",
    "https://sites.google.com/a/chromium.org/chromedriver/downloads\n",
    "\n",
    "https://developer.microsoft.com/en-us/microsoft-edge/tools/webdriver/\n",
    "\n",
    "https://github.com/mozilla/geckodriver/releases\n",
    "\n",
    "\n",
    "Next step is put this driver executable in $PATH variable so it can be used from anywhere. To do so execute this command in terminal,\n",
    "\n",
    "For MAC/Linux user,\n",
    "\n",
    "```shell\n",
    "\"export PATH=$PATH:path/to/webdriver\" >> $HOME/.bash_profile\n",
    "```\n",
    "\n",
    "Now, the first step is to load the webdriver which we downloaded before. I will be using chrome webdriver for this example but you can use the same procedure for other web drivers."
   ]
  },
  {
   "cell_type": "code",
   "execution_count": 14,
   "metadata": {
    "collapsed": true
   },
   "outputs": [],
   "source": [
    "# Selenium Chrome driver\n",
    "driver = webdriver.Chrome()"
   ]
  },
  {
   "cell_type": "code",
   "execution_count": 15,
   "metadata": {
    "collapsed": true
   },
   "outputs": [],
   "source": [
    "# Open the URL\n",
    "driver.get(URL)"
   ]
  },
  {
   "cell_type": "code",
   "execution_count": 12,
   "metadata": {
    "collapsed": true
   },
   "outputs": [],
   "source": [
    "# Close the driver\n",
    "driver.close()"
   ]
  },
  {
   "cell_type": "markdown",
   "metadata": {},
   "source": [
    "### Using Selenium to overcome the scroolling"
   ]
  },
  {
   "cell_type": "code",
   "execution_count": 16,
   "metadata": {
    "collapsed": true
   },
   "outputs": [],
   "source": [
    "def scroll_down():\n",
    "    script = \"window.scrollTo(0, document.body.scrollHeight); return document.body.scrollHeight;\"\n",
    "    len_page = driver.execute_script(script)\n",
    "    while True:\n",
    "        last_count = len_page\n",
    "        print('lenOfPage %d' % len_page)\n",
    "        time.sleep(5)\n",
    "        len_page = driver.execute_script(script)\n",
    "        if last_count == len_page:\n",
    "            break\n",
    "    return"
   ]
  },
  {
   "cell_type": "code",
   "execution_count": 17,
   "metadata": {},
   "outputs": [
    {
     "name": "stdout",
     "output_type": "stream",
     "text": [
      "lenOfPage 2810\n",
      "lenOfPage 4795\n",
      "lenOfPage 6793\n",
      "lenOfPage 8769\n",
      "lenOfPage 10745\n",
      "lenOfPage 12743\n",
      "lenOfPage 14741\n",
      "lenOfPage 16739\n",
      "lenOfPage 18265\n"
     ]
    }
   ],
   "source": [
    "scroll_down()"
   ]
  },
  {
   "cell_type": "markdown",
   "metadata": {},
   "source": [
    "## Getting the products details in the page"
   ]
  },
  {
   "cell_type": "code",
   "execution_count": 19,
   "metadata": {
    "collapsed": true
   },
   "outputs": [],
   "source": [
    "def get_product(el):\n",
    "    product = dict()\n",
    "\n",
    "    name = el.find_element_by_xpath(\".//a[@class='name-link']\")\n",
    "    if name:\n",
    "        product['name'] = name.text\n",
    "    else:\n",
    "        product['name'] = ''\n",
    "\n",
    "    price = el.find_element_by_xpath(\".//div[@class='product-price']\")\n",
    "    if price:\n",
    "        product['price'] = float(price.text.replace(\"£\", \"\").replace(\",\", \"\"))\n",
    "    else:\n",
    "        product['price'] = np.nan\n",
    "\n",
    "    return product"
   ]
  },
  {
   "cell_type": "code",
   "execution_count": 20,
   "metadata": {
    "collapsed": true
   },
   "outputs": [],
   "source": [
    "def get_elements():\n",
    "    return driver.find_elements_by_xpath(\".//div[@class='name-price-wrapper']\")"
   ]
  },
  {
   "cell_type": "code",
   "execution_count": 23,
   "metadata": {},
   "outputs": [
    {
     "data": {
      "text/plain": [
       "[<selenium.webdriver.remote.webelement.WebElement (session=\"234fefffb1daf768ca92af128f9330d6\", element=\"0.9946675079520271-1\")>,\n",
       " <selenium.webdriver.remote.webelement.WebElement (session=\"234fefffb1daf768ca92af128f9330d6\", element=\"0.9946675079520271-2\")>,\n",
       " <selenium.webdriver.remote.webelement.WebElement (session=\"234fefffb1daf768ca92af128f9330d6\", element=\"0.9946675079520271-3\")>,\n",
       " <selenium.webdriver.remote.webelement.WebElement (session=\"234fefffb1daf768ca92af128f9330d6\", element=\"0.9946675079520271-4\")>,\n",
       " <selenium.webdriver.remote.webelement.WebElement (session=\"234fefffb1daf768ca92af128f9330d6\", element=\"0.9946675079520271-5\")>,\n",
       " <selenium.webdriver.remote.webelement.WebElement (session=\"234fefffb1daf768ca92af128f9330d6\", element=\"0.9946675079520271-6\")>,\n",
       " <selenium.webdriver.remote.webelement.WebElement (session=\"234fefffb1daf768ca92af128f9330d6\", element=\"0.9946675079520271-7\")>,\n",
       " <selenium.webdriver.remote.webelement.WebElement (session=\"234fefffb1daf768ca92af128f9330d6\", element=\"0.9946675079520271-8\")>,\n",
       " <selenium.webdriver.remote.webelement.WebElement (session=\"234fefffb1daf768ca92af128f9330d6\", element=\"0.9946675079520271-9\")>,\n",
       " <selenium.webdriver.remote.webelement.WebElement (session=\"234fefffb1daf768ca92af128f9330d6\", element=\"0.9946675079520271-10\")>,\n",
       " <selenium.webdriver.remote.webelement.WebElement (session=\"234fefffb1daf768ca92af128f9330d6\", element=\"0.9946675079520271-11\")>,\n",
       " <selenium.webdriver.remote.webelement.WebElement (session=\"234fefffb1daf768ca92af128f9330d6\", element=\"0.9946675079520271-12\")>,\n",
       " <selenium.webdriver.remote.webelement.WebElement (session=\"234fefffb1daf768ca92af128f9330d6\", element=\"0.9946675079520271-13\")>,\n",
       " <selenium.webdriver.remote.webelement.WebElement (session=\"234fefffb1daf768ca92af128f9330d6\", element=\"0.9946675079520271-14\")>,\n",
       " <selenium.webdriver.remote.webelement.WebElement (session=\"234fefffb1daf768ca92af128f9330d6\", element=\"0.9946675079520271-15\")>,\n",
       " <selenium.webdriver.remote.webelement.WebElement (session=\"234fefffb1daf768ca92af128f9330d6\", element=\"0.9946675079520271-16\")>,\n",
       " <selenium.webdriver.remote.webelement.WebElement (session=\"234fefffb1daf768ca92af128f9330d6\", element=\"0.9946675079520271-17\")>,\n",
       " <selenium.webdriver.remote.webelement.WebElement (session=\"234fefffb1daf768ca92af128f9330d6\", element=\"0.9946675079520271-18\")>,\n",
       " <selenium.webdriver.remote.webelement.WebElement (session=\"234fefffb1daf768ca92af128f9330d6\", element=\"0.9946675079520271-19\")>,\n",
       " <selenium.webdriver.remote.webelement.WebElement (session=\"234fefffb1daf768ca92af128f9330d6\", element=\"0.9946675079520271-20\")>,\n",
       " <selenium.webdriver.remote.webelement.WebElement (session=\"234fefffb1daf768ca92af128f9330d6\", element=\"0.9946675079520271-21\")>,\n",
       " <selenium.webdriver.remote.webelement.WebElement (session=\"234fefffb1daf768ca92af128f9330d6\", element=\"0.9946675079520271-22\")>,\n",
       " <selenium.webdriver.remote.webelement.WebElement (session=\"234fefffb1daf768ca92af128f9330d6\", element=\"0.9946675079520271-23\")>,\n",
       " <selenium.webdriver.remote.webelement.WebElement (session=\"234fefffb1daf768ca92af128f9330d6\", element=\"0.9946675079520271-24\")>,\n",
       " <selenium.webdriver.remote.webelement.WebElement (session=\"234fefffb1daf768ca92af128f9330d6\", element=\"0.9946675079520271-25\")>,\n",
       " <selenium.webdriver.remote.webelement.WebElement (session=\"234fefffb1daf768ca92af128f9330d6\", element=\"0.9946675079520271-26\")>,\n",
       " <selenium.webdriver.remote.webelement.WebElement (session=\"234fefffb1daf768ca92af128f9330d6\", element=\"0.9946675079520271-27\")>,\n",
       " <selenium.webdriver.remote.webelement.WebElement (session=\"234fefffb1daf768ca92af128f9330d6\", element=\"0.9946675079520271-28\")>,\n",
       " <selenium.webdriver.remote.webelement.WebElement (session=\"234fefffb1daf768ca92af128f9330d6\", element=\"0.9946675079520271-29\")>,\n",
       " <selenium.webdriver.remote.webelement.WebElement (session=\"234fefffb1daf768ca92af128f9330d6\", element=\"0.9946675079520271-30\")>,\n",
       " <selenium.webdriver.remote.webelement.WebElement (session=\"234fefffb1daf768ca92af128f9330d6\", element=\"0.9946675079520271-31\")>,\n",
       " <selenium.webdriver.remote.webelement.WebElement (session=\"234fefffb1daf768ca92af128f9330d6\", element=\"0.9946675079520271-32\")>,\n",
       " <selenium.webdriver.remote.webelement.WebElement (session=\"234fefffb1daf768ca92af128f9330d6\", element=\"0.9946675079520271-33\")>,\n",
       " <selenium.webdriver.remote.webelement.WebElement (session=\"234fefffb1daf768ca92af128f9330d6\", element=\"0.9946675079520271-34\")>,\n",
       " <selenium.webdriver.remote.webelement.WebElement (session=\"234fefffb1daf768ca92af128f9330d6\", element=\"0.9946675079520271-35\")>,\n",
       " <selenium.webdriver.remote.webelement.WebElement (session=\"234fefffb1daf768ca92af128f9330d6\", element=\"0.9946675079520271-36\")>,\n",
       " <selenium.webdriver.remote.webelement.WebElement (session=\"234fefffb1daf768ca92af128f9330d6\", element=\"0.9946675079520271-37\")>,\n",
       " <selenium.webdriver.remote.webelement.WebElement (session=\"234fefffb1daf768ca92af128f9330d6\", element=\"0.9946675079520271-38\")>,\n",
       " <selenium.webdriver.remote.webelement.WebElement (session=\"234fefffb1daf768ca92af128f9330d6\", element=\"0.9946675079520271-39\")>,\n",
       " <selenium.webdriver.remote.webelement.WebElement (session=\"234fefffb1daf768ca92af128f9330d6\", element=\"0.9946675079520271-40\")>,\n",
       " <selenium.webdriver.remote.webelement.WebElement (session=\"234fefffb1daf768ca92af128f9330d6\", element=\"0.9946675079520271-41\")>,\n",
       " <selenium.webdriver.remote.webelement.WebElement (session=\"234fefffb1daf768ca92af128f9330d6\", element=\"0.9946675079520271-42\")>,\n",
       " <selenium.webdriver.remote.webelement.WebElement (session=\"234fefffb1daf768ca92af128f9330d6\", element=\"0.9946675079520271-43\")>,\n",
       " <selenium.webdriver.remote.webelement.WebElement (session=\"234fefffb1daf768ca92af128f9330d6\", element=\"0.9946675079520271-44\")>,\n",
       " <selenium.webdriver.remote.webelement.WebElement (session=\"234fefffb1daf768ca92af128f9330d6\", element=\"0.9946675079520271-45\")>,\n",
       " <selenium.webdriver.remote.webelement.WebElement (session=\"234fefffb1daf768ca92af128f9330d6\", element=\"0.9946675079520271-46\")>,\n",
       " <selenium.webdriver.remote.webelement.WebElement (session=\"234fefffb1daf768ca92af128f9330d6\", element=\"0.9946675079520271-47\")>,\n",
       " <selenium.webdriver.remote.webelement.WebElement (session=\"234fefffb1daf768ca92af128f9330d6\", element=\"0.9946675079520271-48\")>,\n",
       " <selenium.webdriver.remote.webelement.WebElement (session=\"234fefffb1daf768ca92af128f9330d6\", element=\"0.9946675079520271-49\")>,\n",
       " <selenium.webdriver.remote.webelement.WebElement (session=\"234fefffb1daf768ca92af128f9330d6\", element=\"0.9946675079520271-50\")>,\n",
       " <selenium.webdriver.remote.webelement.WebElement (session=\"234fefffb1daf768ca92af128f9330d6\", element=\"0.9946675079520271-51\")>,\n",
       " <selenium.webdriver.remote.webelement.WebElement (session=\"234fefffb1daf768ca92af128f9330d6\", element=\"0.9946675079520271-52\")>,\n",
       " <selenium.webdriver.remote.webelement.WebElement (session=\"234fefffb1daf768ca92af128f9330d6\", element=\"0.9946675079520271-53\")>,\n",
       " <selenium.webdriver.remote.webelement.WebElement (session=\"234fefffb1daf768ca92af128f9330d6\", element=\"0.9946675079520271-54\")>,\n",
       " <selenium.webdriver.remote.webelement.WebElement (session=\"234fefffb1daf768ca92af128f9330d6\", element=\"0.9946675079520271-55\")>,\n",
       " <selenium.webdriver.remote.webelement.WebElement (session=\"234fefffb1daf768ca92af128f9330d6\", element=\"0.9946675079520271-56\")>,\n",
       " <selenium.webdriver.remote.webelement.WebElement (session=\"234fefffb1daf768ca92af128f9330d6\", element=\"0.9946675079520271-57\")>,\n",
       " <selenium.webdriver.remote.webelement.WebElement (session=\"234fefffb1daf768ca92af128f9330d6\", element=\"0.9946675079520271-58\")>,\n",
       " <selenium.webdriver.remote.webelement.WebElement (session=\"234fefffb1daf768ca92af128f9330d6\", element=\"0.9946675079520271-59\")>,\n",
       " <selenium.webdriver.remote.webelement.WebElement (session=\"234fefffb1daf768ca92af128f9330d6\", element=\"0.9946675079520271-60\")>,\n",
       " <selenium.webdriver.remote.webelement.WebElement (session=\"234fefffb1daf768ca92af128f9330d6\", element=\"0.9946675079520271-61\")>,\n",
       " <selenium.webdriver.remote.webelement.WebElement (session=\"234fefffb1daf768ca92af128f9330d6\", element=\"0.9946675079520271-62\")>,\n",
       " <selenium.webdriver.remote.webelement.WebElement (session=\"234fefffb1daf768ca92af128f9330d6\", element=\"0.9946675079520271-63\")>,\n",
       " <selenium.webdriver.remote.webelement.WebElement (session=\"234fefffb1daf768ca92af128f9330d6\", element=\"0.9946675079520271-64\")>,\n",
       " <selenium.webdriver.remote.webelement.WebElement (session=\"234fefffb1daf768ca92af128f9330d6\", element=\"0.9946675079520271-65\")>,\n",
       " <selenium.webdriver.remote.webelement.WebElement (session=\"234fefffb1daf768ca92af128f9330d6\", element=\"0.9946675079520271-66\")>,\n",
       " <selenium.webdriver.remote.webelement.WebElement (session=\"234fefffb1daf768ca92af128f9330d6\", element=\"0.9946675079520271-67\")>,\n",
       " <selenium.webdriver.remote.webelement.WebElement (session=\"234fefffb1daf768ca92af128f9330d6\", element=\"0.9946675079520271-68\")>,\n",
       " <selenium.webdriver.remote.webelement.WebElement (session=\"234fefffb1daf768ca92af128f9330d6\", element=\"0.9946675079520271-69\")>,\n",
       " <selenium.webdriver.remote.webelement.WebElement (session=\"234fefffb1daf768ca92af128f9330d6\", element=\"0.9946675079520271-70\")>,\n",
       " <selenium.webdriver.remote.webelement.WebElement (session=\"234fefffb1daf768ca92af128f9330d6\", element=\"0.9946675079520271-71\")>,\n",
       " <selenium.webdriver.remote.webelement.WebElement (session=\"234fefffb1daf768ca92af128f9330d6\", element=\"0.9946675079520271-72\")>,\n",
       " <selenium.webdriver.remote.webelement.WebElement (session=\"234fefffb1daf768ca92af128f9330d6\", element=\"0.9946675079520271-73\")>,\n",
       " <selenium.webdriver.remote.webelement.WebElement (session=\"234fefffb1daf768ca92af128f9330d6\", element=\"0.9946675079520271-74\")>,\n",
       " <selenium.webdriver.remote.webelement.WebElement (session=\"234fefffb1daf768ca92af128f9330d6\", element=\"0.9946675079520271-75\")>,\n",
       " <selenium.webdriver.remote.webelement.WebElement (session=\"234fefffb1daf768ca92af128f9330d6\", element=\"0.9946675079520271-76\")>,\n",
       " <selenium.webdriver.remote.webelement.WebElement (session=\"234fefffb1daf768ca92af128f9330d6\", element=\"0.9946675079520271-77\")>,\n",
       " <selenium.webdriver.remote.webelement.WebElement (session=\"234fefffb1daf768ca92af128f9330d6\", element=\"0.9946675079520271-78\")>,\n",
       " <selenium.webdriver.remote.webelement.WebElement (session=\"234fefffb1daf768ca92af128f9330d6\", element=\"0.9946675079520271-79\")>,\n",
       " <selenium.webdriver.remote.webelement.WebElement (session=\"234fefffb1daf768ca92af128f9330d6\", element=\"0.9946675079520271-80\")>,\n",
       " <selenium.webdriver.remote.webelement.WebElement (session=\"234fefffb1daf768ca92af128f9330d6\", element=\"0.9946675079520271-81\")>,\n",
       " <selenium.webdriver.remote.webelement.WebElement (session=\"234fefffb1daf768ca92af128f9330d6\", element=\"0.9946675079520271-82\")>,\n",
       " <selenium.webdriver.remote.webelement.WebElement (session=\"234fefffb1daf768ca92af128f9330d6\", element=\"0.9946675079520271-83\")>,\n",
       " <selenium.webdriver.remote.webelement.WebElement (session=\"234fefffb1daf768ca92af128f9330d6\", element=\"0.9946675079520271-84\")>,\n",
       " <selenium.webdriver.remote.webelement.WebElement (session=\"234fefffb1daf768ca92af128f9330d6\", element=\"0.9946675079520271-85\")>,\n",
       " <selenium.webdriver.remote.webelement.WebElement (session=\"234fefffb1daf768ca92af128f9330d6\", element=\"0.9946675079520271-86\")>,\n",
       " <selenium.webdriver.remote.webelement.WebElement (session=\"234fefffb1daf768ca92af128f9330d6\", element=\"0.9946675079520271-87\")>,\n",
       " <selenium.webdriver.remote.webelement.WebElement (session=\"234fefffb1daf768ca92af128f9330d6\", element=\"0.9946675079520271-88\")>,\n",
       " <selenium.webdriver.remote.webelement.WebElement (session=\"234fefffb1daf768ca92af128f9330d6\", element=\"0.9946675079520271-89\")>,\n",
       " <selenium.webdriver.remote.webelement.WebElement (session=\"234fefffb1daf768ca92af128f9330d6\", element=\"0.9946675079520271-90\")>,\n",
       " <selenium.webdriver.remote.webelement.WebElement (session=\"234fefffb1daf768ca92af128f9330d6\", element=\"0.9946675079520271-91\")>,\n",
       " <selenium.webdriver.remote.webelement.WebElement (session=\"234fefffb1daf768ca92af128f9330d6\", element=\"0.9946675079520271-92\")>,\n",
       " <selenium.webdriver.remote.webelement.WebElement (session=\"234fefffb1daf768ca92af128f9330d6\", element=\"0.9946675079520271-93\")>,\n",
       " <selenium.webdriver.remote.webelement.WebElement (session=\"234fefffb1daf768ca92af128f9330d6\", element=\"0.9946675079520271-94\")>,\n",
       " <selenium.webdriver.remote.webelement.WebElement (session=\"234fefffb1daf768ca92af128f9330d6\", element=\"0.9946675079520271-95\")>,\n",
       " <selenium.webdriver.remote.webelement.WebElement (session=\"234fefffb1daf768ca92af128f9330d6\", element=\"0.9946675079520271-96\")>,\n",
       " <selenium.webdriver.remote.webelement.WebElement (session=\"234fefffb1daf768ca92af128f9330d6\", element=\"0.9946675079520271-97\")>,\n",
       " <selenium.webdriver.remote.webelement.WebElement (session=\"234fefffb1daf768ca92af128f9330d6\", element=\"0.9946675079520271-98\")>,\n",
       " <selenium.webdriver.remote.webelement.WebElement (session=\"234fefffb1daf768ca92af128f9330d6\", element=\"0.9946675079520271-99\")>,\n",
       " <selenium.webdriver.remote.webelement.WebElement (session=\"234fefffb1daf768ca92af128f9330d6\", element=\"0.9946675079520271-100\")>,\n",
       " <selenium.webdriver.remote.webelement.WebElement (session=\"234fefffb1daf768ca92af128f9330d6\", element=\"0.9946675079520271-101\")>,\n",
       " <selenium.webdriver.remote.webelement.WebElement (session=\"234fefffb1daf768ca92af128f9330d6\", element=\"0.9946675079520271-102\")>,\n",
       " <selenium.webdriver.remote.webelement.WebElement (session=\"234fefffb1daf768ca92af128f9330d6\", element=\"0.9946675079520271-103\")>,\n",
       " <selenium.webdriver.remote.webelement.WebElement (session=\"234fefffb1daf768ca92af128f9330d6\", element=\"0.9946675079520271-104\")>,\n",
       " <selenium.webdriver.remote.webelement.WebElement (session=\"234fefffb1daf768ca92af128f9330d6\", element=\"0.9946675079520271-105\")>]"
      ]
     },
     "execution_count": 23,
     "metadata": {},
     "output_type": "execute_result"
    }
   ],
   "source": [
    "items = get_elements()\n",
    "items"
   ]
  },
  {
   "cell_type": "code",
   "execution_count": 25,
   "metadata": {},
   "outputs": [
    {
     "data": {
      "text/plain": [
       "{'name': 'FAUX FUR WRAP-AROUND COAT', 'price': 399.0}"
      ]
     },
     "execution_count": 25,
     "metadata": {},
     "output_type": "execute_result"
    }
   ],
   "source": [
    "get_product(items[0])"
   ]
  },
  {
   "cell_type": "markdown",
   "metadata": {},
   "source": [
    "## Putting all together"
   ]
  },
  {
   "cell_type": "code",
   "execution_count": 26,
   "metadata": {
    "collapsed": true
   },
   "outputs": [],
   "source": [
    "def get_data(URL):\n",
    "    # Open the url\n",
    "    driver.get(URL)\n",
    "    time.sleep(5)\n",
    "\n",
    "    # Scroll page until end\n",
    "    scroll_down()\n",
    "\n",
    "    # Get all list of items\n",
    "    items = get_elements()\n",
    "\n",
    "    # Extract information for each item in the items list\n",
    "    products = []\n",
    "    for item in items:\n",
    "        products.append(get_product(item))\n",
    "\n",
    "    return products"
   ]
  },
  {
   "cell_type": "code",
   "execution_count": 34,
   "metadata": {
    "collapsed": true
   },
   "outputs": [],
   "source": [
    "driver = webdriver.Chrome()"
   ]
  },
  {
   "cell_type": "code",
   "execution_count": 35,
   "metadata": {},
   "outputs": [
    {
     "name": "stdout",
     "output_type": "stream",
     "text": [
      "lenOfPage 2810\n",
      "lenOfPage 4795\n",
      "lenOfPage 6793\n",
      "lenOfPage 8769\n",
      "lenOfPage 10745\n",
      "lenOfPage 12743\n",
      "lenOfPage 14741\n",
      "lenOfPage 16739\n",
      "lenOfPage 18265\n"
     ]
    }
   ],
   "source": [
    "p = get_data(URL)"
   ]
  },
  {
   "cell_type": "markdown",
   "metadata": {},
   "source": [
    "## Putting the data in a dataframe"
   ]
  },
  {
   "cell_type": "code",
   "execution_count": 36,
   "metadata": {},
   "outputs": [
    {
     "data": {
      "text/html": [
       "<div>\n",
       "<style>\n",
       "    .dataframe thead tr:only-child th {\n",
       "        text-align: right;\n",
       "    }\n",
       "\n",
       "    .dataframe thead th {\n",
       "        text-align: left;\n",
       "    }\n",
       "\n",
       "    .dataframe tbody tr th {\n",
       "        vertical-align: top;\n",
       "    }\n",
       "</style>\n",
       "<table border=\"1\" class=\"dataframe\">\n",
       "  <thead>\n",
       "    <tr style=\"text-align: right;\">\n",
       "      <th></th>\n",
       "      <th>name</th>\n",
       "      <th>price</th>\n",
       "    </tr>\n",
       "  </thead>\n",
       "  <tbody>\n",
       "    <tr>\n",
       "      <th>0</th>\n",
       "      <td>FAUX FUR WRAP-AROUND COAT</td>\n",
       "      <td>399.0</td>\n",
       "    </tr>\n",
       "    <tr>\n",
       "      <th>1</th>\n",
       "      <td>TAILORED CULOTTE JUMPSUIT</td>\n",
       "      <td>235.0</td>\n",
       "    </tr>\n",
       "    <tr>\n",
       "      <th>2</th>\n",
       "      <td>ITALIAN WOOL MIX COAT</td>\n",
       "      <td>350.0</td>\n",
       "    </tr>\n",
       "    <tr>\n",
       "      <th>3</th>\n",
       "      <td>WOOL RICH TRENCH COAT</td>\n",
       "      <td>350.0</td>\n",
       "    </tr>\n",
       "    <tr>\n",
       "      <th>4</th>\n",
       "      <td>GEO-PRINT A-LINE KNIT DRESS</td>\n",
       "      <td>140.0</td>\n",
       "    </tr>\n",
       "  </tbody>\n",
       "</table>\n",
       "</div>"
      ],
      "text/plain": [
       "                          name  price\n",
       "0    FAUX FUR WRAP-AROUND COAT  399.0\n",
       "1    TAILORED CULOTTE JUMPSUIT  235.0\n",
       "2        ITALIAN WOOL MIX COAT  350.0\n",
       "3        WOOL RICH TRENCH COAT  350.0\n",
       "4  GEO-PRINT A-LINE KNIT DRESS  140.0"
      ]
     },
     "execution_count": 36,
     "metadata": {},
     "output_type": "execute_result"
    }
   ],
   "source": [
    "df = pd.DataFrame(p)\n",
    "df.head()"
   ]
  },
  {
   "cell_type": "code",
   "execution_count": 37,
   "metadata": {},
   "outputs": [
    {
     "name": "stdout",
     "output_type": "stream",
     "text": [
      "<class 'pandas.core.frame.DataFrame'>\n",
      "RangeIndex: 105 entries, 0 to 104\n",
      "Data columns (total 2 columns):\n",
      "name     105 non-null object\n",
      "price    105 non-null float64\n",
      "dtypes: float64(1), object(1)\n",
      "memory usage: 1.7+ KB\n"
     ]
    }
   ],
   "source": [
    "df.info()"
   ]
  },
  {
   "cell_type": "code",
   "execution_count": 38,
   "metadata": {},
   "outputs": [
    {
     "data": {
      "text/plain": [
       "count     105.000000\n",
       "mean      216.171429\n",
       "std       192.015948\n",
       "min        55.000000\n",
       "25%       110.000000\n",
       "50%       145.000000\n",
       "75%       250.000000\n",
       "max      1400.000000\n",
       "Name: price, dtype: float64"
      ]
     },
     "execution_count": 38,
     "metadata": {},
     "output_type": "execute_result"
    }
   ],
   "source": [
    "df.price.describe()"
   ]
  },
  {
   "cell_type": "code",
   "execution_count": 32,
   "metadata": {},
   "outputs": [
    {
     "data": {
      "text/plain": [
       "<matplotlib.axes._subplots.AxesSubplot at 0x10eec08d0>"
      ]
     },
     "execution_count": 32,
     "metadata": {},
     "output_type": "execute_result"
    },
    {
     "data": {
      "image/png": "[encoded data removed]",
      "text/plain": [
       "<matplotlib.figure.Figure at 0x10eebf5f8>"
      ]
     },
     "metadata": {},
     "output_type": "display_data"
    }
   ],
   "source": [
    "df.price.hist(bins=15, figsize=(10,7))"
   ]
  },
  {
   "cell_type": "markdown",
   "metadata": {},
   "source": [
    "## Closing the driver"
   ]
  },
  {
   "cell_type": "code",
   "execution_count": 39,
   "metadata": {
    "collapsed": true
   },
   "outputs": [],
   "source": [
    "driver.close()"
   ]
  },
  {
   "cell_type": "code",
   "execution_count": null,
   "metadata": {
    "collapsed": true
   },
   "outputs": [],
   "source": []
  }
 ],
 "metadata": {
  "kernelspec": {
   "display_name": "Python 3",
   "language": "python",
   "name": "python3"
  },
  "language_info": {
   "codemirror_mode": {
    "name": "ipython",
    "version": 3
   },
   "file_extension": ".py",
   "mimetype": "text/x-python",
   "name": "python",
   "nbconvert_exporter": "python",
   "pygments_lexer": "ipython3",
   "version": "3.6.1"
  }
 },
 "nbformat": 4,
 "nbformat_minor": 2
}
